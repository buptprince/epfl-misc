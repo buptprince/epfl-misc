{
 "cells": [
  {
   "cell_type": "markdown",
   "metadata": {},
   "source": [
    "# Extracting Quotation-Person pairs from Reuters articles\n",
    "# Seth Vanderwilt, December 18 2016 for Bob West (and my own NLP trial by fire)"
   ]
  },
  {
   "cell_type": "markdown",
   "metadata": {},
   "source": [
    "Task description:\n",
    "\n",
    "(1) Download the Reuters corpus here: http://www.daviddlewis.com/resources/testcollections/reuters21578/\n",
    "\n",
    "(2) **Build a table of quotes alongside the name of the person who uttered it**; i.e., one record of the table could look like this:\n",
    "They brought us whole binders full of women&lt;TAB&gt;Mitt Romney\n",
    "\n",
    "For extracting quotes, it's quite easy to handcraft some high-precision extractor patterns, e.g., in the form of regexes such as \"(.\\*)\", said (.\\*)\n",
    "But if you do only this, then you'll miss out on a lot of quotes that are framed slightly differently (e.g., '\"Bla bla bla?\", the governor asked').\n",
    "\n",
    "Can you think of ways to automatically or semi-automatically expand the set of extractor patterns? You could think of ways of leveraging the fact that some people (such as Ronald Reagan -- the corpus is from the late '80s...) have probably contributed many quotes to the corpus. So-called bootstrapping approaches (such as this one http://ilpubs.stanford.edu:8090/421/1/1999-65.pdf) could work in such a setting.\n",
    "\n",
    "**Potentially relevant papers:**\n",
    "- http://www.cs.columbia.edu/~delson/pubs/AAAI10-ElsonMcKeown.pdf\n",
    "- http://alpage.inria.fr/~sagot/pub/ltc09sapiens.pdf\n",
    "- https://aclweb.org/anthology/U/U13/U13-1007.pdf\n",
    "\n",
    "**What I've done so far:**\n",
    "- one potentially interesting file (not so interesting now):\n",
    "     - all-people-strings.lc.txt\n",
    "         - could use this as a set() of known Person entities and do lookups?\n",
    "         - turns out this file only consists of people who were the primary focus of an article, so we can use it to look for example quotation-person tuples (get some bootstrap samples) but it's not an exhaustive list of all the people who occur in the corpus.\n",
    "- the most reliable example patterns of quotations I thought of:\n",
    "    - QUOTATION SAID_SYNONYM PERSON\n",
    "    - QUOTATION PERSON SAID_SYNONYM\n",
    "    - PERSON SAID_SYNONYM QUOTATION\n",
    "\n",
    "\n",
    "**interesting stuff**\n",
    "    - import the dataset\n",
    "    - see if we can get some matches for the example pattern (QUOTATION) said (.\\*)\n",
    "    - see if we can get some bootstrap samples of Reagan quotes\n",
    "    \n",
    "**Paper stuff**\n",
    "Brin approach for (Title, Author) extraction:\n",
    "- Start by manually adding 5 example (Book, Author) pairs.\n",
    "- Find all documents containing these pairs in a small region of text.\n",
    "    - occurence: (author, title, order, url, prefix, middle, suffix)\n",
    "- From these documents, extract patterns e.g. the document contained &lt;LI&gt;&lt;B&gt;title&lt;/B&gt; by author\n",
    "- Search for these patterns on the Web to find more books\n",
    "\n",
    "**A similar approach for (Quote, Sayer) extraction:**\n",
    "- Start with a few (Quote, Famous_Person) pairs\n",
    "    - So we start with pairs [(\"Mr. Gorbachev tear down this wall\", Ronald Reagan), (\"God bless America\", Ronald Reagan), (\"It's clearly a budget. It's got a lot of numbers in it.\", George Bush) ...]\n",
    "- Find all documents containing these pairs\n",
    "    - could adapt Brin's occurence definition - but do we need to find a 'say' verb in the middle/suffix? I'm not sure that we can just use the exact text we find.\n",
    "        - For example I found \"Reagan to Gorbachev: 'Tear down this wall'!\" which is a quotation pattern I hadn't thought of. \n",
    "        - Another one: \"On June 12, 1987, President Ronald Reagan declared, 'Mr. Gorbachev, open this gate. Mr. Gorbachev, tear down this wall.'\"\n",
    "- Extract patterns from these documents\n",
    "- Search for these patterns to find more quote-sayer pairs\n",
    "\n",
    "**One problem** is this Reuters corpus consists primarily of __mundane__ quotes from famous and not-so-famous people. You can find many of Reagan's quotes in the public record but most of the quotes in Reuters are one-offs from a press conference or interview. Thus I don't think there are any quotes that are reused in multiple articles.\n",
    "\n",
    "You might think it's OK to just match any quote and do a fuzzy matching of the quotee. So we would just match (\"anything\", ~Reagan). The problem with this approach is it will match a sentence like \"... the 'geniuses' in the Reagan administration ...\" and then we learn some bad patterns. So it seems we need to use specific quotes and use the grammatical structure to check that Reagan was the person saying the quote.\n",
    "\n",
    "**Other datasets/approaches that might be useful**\n",
    "- Cross-reference multiple books or articles that contain the same famous quotations. \n",
    "- Find all the articles written about a specific speech/press-conference (journalists would all hear the same quotes but write their articles differently?)\n",
    "- Use Google search results for each (quote,person) pair basically automating what I did for the \"tear down this wall\" example above\n",
    "- Supervised learning and measure the error rate with crowdsourcing"
   ]
  },
  {
   "cell_type": "markdown",
   "metadata": {},
   "source": [
    "**See what Reagan quotes we can find in the dataset without any preprocessing** \n",
    "\n",
    "(NOTE: other than this grep result, the rest of my work is with the NLTK version of reuters-21578)\n",
    "\n",
    "We can see that in the second execution many of these are Reagan-related but not actual Reagan quotes! So this is not an easy task."
   ]
  },
  {
   "cell_type": "raw",
   "metadata": {},
   "source": [
    "seth$ grep \\\".*\\\".*Reagan *.sgm\n",
    "reut2-004.sgm:    \"I'm sorry but that's just not going to happen,\" said Reagan.\n",
    "reut2-007.sgm:    \"We have to study this more,\" Reagan said. \"This is why we\n",
    "reut2-007.sgm:    \"We have to study this more,\" Reagan said. \"This is why we\n",
    "reut2-011.sgm:    \"We don't want to go down that road,\" Reagan was quoted as\n",
    "reut2-020.sgm:    \"Interest rates are down across the spectrum,\" Reagan said.\n",
    "\n",
    "seth$ grep Reagan.*\\\".*\\\" *.sgm\n",
    "reut2-000.sgm:and Reagan confidant Paul Laxalt. \"He is a victim.\"\n",
    "reut2-000.sgm:Baker said President Reagan will meet the press \"very soon.\"\n",
    "reut2-001.sgm:    His resignation, which Reagan accepted \"with deep regret,\" is\n",
    "reut2-001.sgm:Tower, said Reagan's \"intense compassion\" for Americans being\n",
    "reut2-001.sgm:speech, Reagan said that \"serious mistakes were made\" but\n",
    "reut2-005.sgm:of the Reagan administration, and \"I don't want to preempt that.\"\n",
    "reut2-006.sgm:photo session, Reagan replied, \"It wasn't all that bad.\"\n",
    "reut2-007.sgm:    The Reagan administration has given \"mixed signals\" on\n",
    "reut2-007.sgm:    Reagan replied, \"No,\" smiled, waved and walked away from the\n",
    "reut2-009.sgm:Reagan's highly publicized \"war on waste, fraud and abuse.\"\n",
    "reut2-018.sgm:frozen out of President Reagan's \"Star Wars\" project despite\n",
    "reut2-019.sgm:    He said it was time for Reagan to move from his \"hobby horse\"\n",
    "reut2-020.sgm:statement that Reagan \"watched today with concern\" the decline on"
   ]
  },
  {
   "cell_type": "markdown",
   "metadata": {},
   "source": [
    "**I preprocess the dataset by getting the raw text of each document, splitting it into sentences (each separated by newlines) and putting all of them into a giant array**"
   ]
  },
  {
   "cell_type": "code",
   "execution_count": 1,
   "metadata": {
    "collapsed": false
   },
   "outputs": [],
   "source": [
    "import re\n",
    "import nltk\n",
    "from nltk.corpus import reuters \n",
    "\n",
    "doc_ids = reuters.fileids()\n",
    "texts = []\n",
    "#Keep mapping from docid:text for context?\n",
    "for doc_id in doc_ids:\n",
    "    doc = reuters.raw(doc_id)\n",
    "    #instead of accepting doc as formatted, try to get each sentence on its own line\n",
    "    doc_oneline = doc.replace('\\n',' ')\n",
    "    doc_sents = nltk.tokenize.sent_tokenize(doc_oneline)\n",
    "    doc_lines = '\\n'.join(doc_sents)\n",
    "    texts.append(doc_lines)"
   ]
  },
  {
   "cell_type": "code",
   "execution_count": 2,
   "metadata": {
    "collapsed": false
   },
   "outputs": [
    {
     "data": {
      "text/plain": [
       "8650373"
      ]
     },
     "execution_count": 2,
     "metadata": {},
     "output_type": "execute_result"
    }
   ],
   "source": [
    "concatenated_texts = \"\\n\".join(texts)\n",
    "len(concatenated_texts)"
   ]
  },
  {
   "cell_type": "code",
   "execution_count": 3,
   "metadata": {
    "collapsed": false
   },
   "outputs": [
    {
     "name": "stdout",
     "output_type": "stream",
     "text": [
      "458\n"
     ]
    },
    {
     "data": {
      "text/plain": [
       "[(\"We wouldn't be able to do business,\",\n",
       "  'a spokesman for   leading Japanese electronics firm Matsushita Electric   Industrial Co Ltd &lt;MC.T>.'),\n",
       " ('If the tariffs remain in place for any length of time   beyond a few months it will mean the complete erosion of   exports (of goods subject to tariffs) to the U.S.,',\n",
       "  'Tom   Murtha, a stock analyst at the Tokyo office of broker &lt;James   Capel and Co>.'),\n",
       " ('That is a very short-term view,',\n",
       "  'Lawrence Mills,   director-general of the Federation of Hong Kong Industry.'),\n",
       " ('The tie-up is widely looked on as a lame duck because the   Fed was stricter than Sumitomo expected,',\n",
       "  'one analyst.'),\n",
       " (\"It's (Sumitomo) been bold in its strategies,\", \"  Kleinwort's Smithson.\")]"
      ]
     },
     "execution_count": 3,
     "metadata": {},
     "output_type": "execute_result"
    }
   ],
   "source": [
    "#Curious what happens if we try to create the table with this pattern.\n",
    "#Looks like the \"sayer\" field would be a mess\n",
    "matches = re.findall('\\\"(.*)\\\" said (.*)', concatenated_texts)\n",
    "print(len(matches))\n",
    "matches[:5]"
   ]
  },
  {
   "cell_type": "code",
   "execution_count": 4,
   "metadata": {
    "collapsed": false
   },
   "outputs": [
    {
     "name": "stdout",
     "output_type": "stream",
     "text": [
      "19\n"
     ]
    },
    {
     "data": {
      "text/plain": [
       "['\"We cannot allow it to be jeopardized by unfair trading   practices,\" Reagan added in the statement from his California   vacation home at Santa Barbara.',\n",
       " '\"The commitments made at these meetings need to be   translated into action,\" Reagan said in a pre-summit speech   celebrating the 40th anniversary of the Marshall Plan.     ',\n",
       " '\"They died while guarding a chokepoint of freedom, deterring   aggression and reaffirming America\\'s willingness to protect its   vital interests,\" Reagan said.',\n",
       " '\"No one has ever stated or supported a policy of protecting   all shipping in those waters,\" Pentagon spokesman Bob Sims said   as the Reagan Administration drew up plans to increase the   protective U.S. military presence in the gulf.',\n",
       " '\"I believe there is room in the market for a further decline   in interest rates,\" Reagan said in a statement as he left the   White House to visit his wife Nancy at Bethesda Naval Hospital.',\n",
       " '\"Interest rates are down across the spectrum,\" Reagan said.',\n",
       " '\"Specifically, I am pleased that the bond market is strong   and that foreign exchange markets are stable,\" Reagan said.     ',\n",
       " '\"The United States remains committed to the Louvre   agreement,\" Reagan said in a statement following a meeting with   his top economic advisers.',\n",
       " '\"reaffirmed our agreement to coordinate economic   policies to provide for non-inflationary growth and stable   exchange rates,\" Reagan said.     ',\n",
       " '\"This agreement opens a new era in Franco-American   cooperation, allowing France and the United States to join   their efforts to control this terrible disease in the hopes of   speeding the development of an AIDS vaccine and cure,\" Reagan   said at the signing ceremony.',\n",
       " '\"grain producers\\'   OPEC\" -- a reference to the Organization of Petroleum Exporting   Countries -- and said it went against the Reagan   administration\\'s desire to lessen government intervention in   trade.     ',\n",
       " '\"We don\\'t want to go down that road,\" Reagan was quoted as   telling Prime Minister Jacques Chirac after the visiting French   official expressed concern about the rising tide of   protectionist sentiment in the United States.',\n",
       " '\"There\\'s interest on the part of some countries for looking   at the support of the special problems of the very poorest   countries, because their position is so extreme,\" a Reagan   administration official said.',\n",
       " '\"that a free trader like me could endorse in   all respects,\" but he emphasized there was a consensus among   trade lawmakers to work toward a bill Reagan and Republicans   would ultimately endorse.',\n",
       " '\"that a free trader like me could endorse in all respects,\"   but he emphasized there was a consensus among lawmakers to work   toward a bill Reagan and Republicans would ultimately endorse.',\n",
       " '\"We have to study this more,\" Reagan said.',\n",
       " '\"We have to study this more,\" Reagan said.',\n",
       " '\"Sugar Program Improvements Act of 1987\", Peter Myers,   Deputy Agriculture Secretary, said the Reagan administration   wants the sugar loan rate cut to 12 cents per pound beginning   with the 1987 crop, down from 18 cts now.',\n",
       " '\"optimistic\" about the chances of   providing a more generous depletion allowance for oil and gas   producers, but added that the plan faces strong opposition from   some members of the Reagan administration.']"
      ]
     },
     "execution_count": 4,
     "metadata": {},
     "output_type": "execute_result"
    }
   ],
   "source": [
    "reagan_matches = re.findall('\\\".*\\\".*Reagan.*', concatenated_texts)\n",
    "\n",
    "print(len(reagan_matches))\n",
    "reagan_matches"
   ]
  },
  {
   "cell_type": "code",
   "execution_count": 5,
   "metadata": {
    "collapsed": false
   },
   "outputs": [
    {
     "name": "stdout",
     "output_type": "stream",
     "text": [
      "34\n"
     ]
    },
    {
     "data": {
      "text/plain": [
       "['Reagan said \"I am committed to   the full enforcement of our trade agreements designed to   provide American industry with free and fair trade.\"',\n",
       " 'Reagan administration was resisting \"strong   domestic pressure\" for trade protection and was working closely   with the U.S. Congress in crafting a trade bill.',\n",
       " 'Reagan said \"I am committed to   full enforcement of our trade agreements designed to provide   American industry with free and fair trade opportunities.\"',\n",
       " 'Reagan to cancel the scheduled 100 pct tariffs on Japanese   electronic exports, he said \"slim to none.\"',\n",
       " 'Reagan said in announcing the sanctions today that \"I regret   that these actions are necessary,\" but that the health and   vitality of the U.S. semiconductor industry was essential to   American competitiveness in world markets.',\n",
       " 'Reagan said the American people were aware that \"it is not our   interests alone that are being protected.\"',\n",
       " 'Reagan said today, \"economic policy decisions   made last year in Tokyo and at this year\\'s meetings of Group of   Seven finance ministers in Paris and Washington cannot be   ignored or forgotten.\"',\n",
       " 'Reagan\\'s decision to press for   continuation of so-called Most Favored Nation (MFN) status for   Romania had been \"exceptionally difficult\" and came after \"all   options were seriously considered.\"',\n",
       " 'Reagan Administration and Congress   quickly to agree on measures to cut the deficit \"could seriously   affect confidence, both in the United States and elsewhere.\"',\n",
       " 'Reagan said he would veto a   House-passed trade bill requiring mandatory retaliation for   \"unfair trade\" if it reached its desk in its present form.',\n",
       " 'Reagan has said he would veto any legislation he   termed \"protectionist,\" and his aides now are mounting a effort   to water down some of the objectionable provisions in the   legislation.',\n",
       " 'Reagan was ready to cast a veto, Rodriguez   said as yet \"the administration is not in a veto frame of mind.\"',\n",
       " 'Reagan speaking for most people by admitting   that he was \"puzzled.\"',\n",
       " 'Reagan said Japanese Prime Minister-designate Noboru   Takeshita said in a telephone conversation Tuesday morning that   \"his (Takeshita\\'s) top priority was to maintain stable economic   relations with the United States.\"',\n",
       " 'Reagan and Prime Minister Yasuhiro Nakasone   will include \"some difficult items on the agenda.\"',\n",
       " 'Reagan last year rejected the idea and he added:       \"In my personal view he is not likely to change his thinking   on that.\"',\n",
       " 'Reagan describing France as \"America\\'s oldest   ally in war and peace.\"',\n",
       " 'Reagan took office remains \"one of the significant   accomplishments, in the economic area, of this administration.\"',\n",
       " 'Reagan administration would be reviewing the   coffee policy situation following the collapse of the London   talks, but \"nobody is proposing we change our position.\"',\n",
       " 'Reagan that   the arms-for-hostages deal with Iran \"was a mistake,\" dealers   said.',\n",
       " 'Reagan\\'s record in opposing tax hikes   is \"long and strong\" and not about to change.',\n",
       " 'Reagan\\'s State of the Union message and was \"in a manner   consistent with the joint statement\" made by U.S. Treasury   secretary James Baker and Japanese finance minister Kiichi   Miyazawa after their January 21 consultations.',\n",
       " 'Reagan administration,   \"should be seriously considered\" because a refusal to do so could   \"play into the hands of those who want mandatory controls\" placed   on production.',\n",
       " 'Reagan administration\\'s proposed farm policy changes   \"are not going anywhere\" this year, Dole said, singling out the   proposal to cut target prices 10 pct per year.',\n",
       " 'Reagan and said they intend to back   amendments to \"get tough\" with countries that violate trade   agreements or keep out U.S. products.',\n",
       " 'Reagan administration, and \"I don\\'t want to preempt that.\"',\n",
       " 'Reagan and said they intend to back   amendments to \"get tough\" with countries that violate trade   agreements or keep out U.S. products.',\n",
       " 'Reagan said the 1.1 pct   U.S. economic growth rate during the final quarter of 1986   \"wasn\\'t all that bad.\"',\n",
       " 'Reagan replied, \"It wasn\\'t all that bad.\"',\n",
       " 'Reagan administration has given \"mixed signals\" on   whether it believes a marketing loan for soybeans could be   successfully challenged in GATT by the EC, Haggard said.',\n",
       " 'Reagan   administration said a Soviet trade team told private grain   trade officials in New York last week that Moscow would buy as   much as four mln tonnes of U.S. wheat, much of it before   mid-year, if it was \"competitively priced.\"',\n",
       " 'Reagan administration officials said later that Washington   did not seek military confrontation with Tehran, but would not   let Iran use Chinese-made \"Silkworm\" anti-ship missiles, capable   of covering the narrow entrance to the Gulf, to choke oil   shipments to the West.',\n",
       " 'Reagan   Administration, Ottawa was not considering any kind of formal   limits on Canadian shipments to the U.S.       \"In a sense what I hope we are doing is buying some time,\"   said one official who claimed Canadian companies were \"fair   traders\" in the big American market.',\n",
       " 'Reagan doesn\\'t think   it\\'s a very good idea,\" Baker said in an interview on Cable   News Network\\'s \"Moneyline\" television program.']"
      ]
     },
     "execution_count": 5,
     "metadata": {},
     "output_type": "execute_result"
    }
   ],
   "source": [
    "reagan_matches_swapped = re.findall('Reagan.*\\\".*\\\".*', concatenated_texts)\n",
    "\n",
    "print(len(reagan_matches_swapped))\n",
    "reagan_matches_swapped"
   ]
  },
  {
   "cell_type": "markdown",
   "metadata": {},
   "source": [
    "**Some example valid patterns from these results (clearly not every match is a valid Reagan quote!):**\n",
    "- \"We cannot allow it to be jeopardized by unfair trading   practices,\" Reagan added ...\n",
    "- \"The United States remains committed to the Louvre   agreement,\" Reagan said ...\n",
    "- \"We don\\'t want to go down that road,\" Reagan was quoted as telling ..."
   ]
  },
  {
   "cell_type": "code",
   "execution_count": 6,
   "metadata": {
    "collapsed": false
   },
   "outputs": [],
   "source": [
    "mydataset = '\"quote1\" Reagan said.\\n \\\n",
    "\"quote1\" Reagan was quoted as telling the police.\\n \\\n",
    "Reagan reiterated that \"quote1\" in his speech.\\n \\\n",
    "Reagan: \"quote2\"\\n Reagan said that \"Quote2\" and so on.\\n \\\n",
    "Reagan replied, \"quote3\" before walking away.\\n \\\n",
    "Reagan told reporters to \"quote3\"'"
   ]
  },
  {
   "cell_type": "code",
   "execution_count": 8,
   "metadata": {
    "collapsed": false
   },
   "outputs": [
    {
     "name": "stdout",
     "output_type": "stream",
     "text": [
      "Found match for line: '\"quote1\" Reagan said.'\n",
      "quote-sayer:\n",
      "prefix: ''\n",
      "middle: ' '\n",
      "suffix: ' said.'\n",
      "Found match for line: ' \"quote1\" Reagan was quoted as telling the police.'\n",
      "quote-sayer:\n",
      "prefix: ' '\n",
      "middle: ' '\n",
      "suffix: ' was quoted as telling the police.'\n",
      "Found match for line: ' Reagan reiterated that \"quote1\" in his speech.'\n",
      "sayer-quote:\n",
      "prefix: ' '\n",
      "middle: ' reiterated that '\n",
      "suffix: ' in his speech.'\n"
     ]
    }
   ],
   "source": [
    "for line in mydataset.split(\"\\n\"):\n",
    "    #match our example pair\n",
    "    if \"Reagan\" in line and \"quote1\" in line:\n",
    "        print(\"Found match for line: '%s'\" % line)\n",
    "        #extract pattern\n",
    "        #XXX haven't covered the case where quote precedes sayer\n",
    "        regex_sq = re.search(\"(.*)Reagan(.*)\\\"quote1\\\"(.*)\", line)\n",
    "        if regex_sq:\n",
    "            print(\"sayer-quote:\")\n",
    "            pref,mid,suff = regex_sq.groups()\n",
    "            print(\"prefix: '%s'\" % pref)\n",
    "            print(\"middle: '%s'\" % mid)\n",
    "            print(\"suffix: '%s'\" % suff)\n",
    "        regex_qs = re.search(\"(.*)\\\"quote1\\\"(.*)Reagan(.*)\", line)\n",
    "        if regex_qs:\n",
    "            print(\"quote-sayer:\")\n",
    "            pref,mid,suff = regex_qs.groups()\n",
    "            print(\"prefix: '%s'\" % pref)\n",
    "            print(\"middle: '%s'\" % mid)\n",
    "            print(\"suffix: '%s'\" % suff)\n",
    "        "
   ]
  },
  {
   "cell_type": "markdown",
   "metadata": {},
   "source": [
    "**Seems like we need to figure out what's relevant to have a useful pattern, but we can't get too general or we'll get junk**"
   ]
  },
  {
   "cell_type": "code",
   "execution_count": null,
   "metadata": {
    "collapsed": true
   },
   "outputs": [],
   "source": []
  }
 ],
 "metadata": {
  "anaconda-cloud": {},
  "kernelspec": {
   "display_name": "Python [Root]",
   "language": "python",
   "name": "Python [Root]"
  },
  "language_info": {
   "codemirror_mode": {
    "name": "ipython",
    "version": 3
   },
   "file_extension": ".py",
   "mimetype": "text/x-python",
   "name": "python",
   "nbconvert_exporter": "python",
   "pygments_lexer": "ipython3",
   "version": "3.5.2"
  }
 },
 "nbformat": 4,
 "nbformat_minor": 0
}
